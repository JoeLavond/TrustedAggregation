{
 "cells": [
  {
   "metadata": {
    "ExecuteTime": {
     "end_time": "2024-09-05T21:43:13.696344Z",
     "start_time": "2024-09-05T21:43:13.615396Z"
    }
   },
   "cell_type": "code",
   "outputs": [
    {
     "name": "stdout",
     "output_type": "stream",
     "text": [
      "0.12.2\n"
     ]
    },
    {
     "ename": "ImportError",
     "evalue": "cannot import name 'Int64Index' from 'pandas' (C:\\Users\\joela\\anaconda3\\lib\\site-packages\\pandas\\__init__.py)",
     "output_type": "error",
     "traceback": [
      "\u001B[1;31m---------------------------------------------------------------------------\u001B[0m",
      "\u001B[1;31mImportError\u001B[0m                               Traceback (most recent call last)",
      "\u001B[1;32m<ipython-input-2-85e80d01e961>\u001B[0m in \u001B[0;36m<module>\u001B[1;34m\u001B[0m\n\u001B[0;32m     10\u001B[0m \u001B[0msys\u001B[0m\u001B[1;33m.\u001B[0m\u001B[0mpath\u001B[0m\u001B[1;33m.\u001B[0m\u001B[0minsert\u001B[0m\u001B[1;33m(\u001B[0m\u001B[1;36m1\u001B[0m\u001B[1;33m,\u001B[0m \u001B[0mstr\u001B[0m\u001B[1;33m(\u001B[0m\u001B[0mpath\u001B[0m\u001B[1;33m)\u001B[0m\u001B[1;33m)\u001B[0m\u001B[1;33m\u001B[0m\u001B[1;33m\u001B[0m\u001B[0m\n\u001B[0;32m     11\u001B[0m \u001B[1;33m\u001B[0m\u001B[0m\n\u001B[1;32m---> 12\u001B[1;33m \u001B[1;32mimport\u001B[0m \u001B[0mlocal_utils\u001B[0m \u001B[1;32mas\u001B[0m \u001B[0mlu\u001B[0m\u001B[1;33m\u001B[0m\u001B[1;33m\u001B[0m\u001B[0m\n\u001B[0m",
      "\u001B[1;32m~\\Documents\\tag\\make_visuals\\.\\local_utils.py\u001B[0m in \u001B[0;36m<module>\u001B[1;34m\u001B[0m\n\u001B[0;32m      1\u001B[0m \u001B[1;31m# packages\u001B[0m\u001B[1;33m\u001B[0m\u001B[1;33m\u001B[0m\u001B[1;33m\u001B[0m\u001B[0m\n\u001B[0;32m      2\u001B[0m \u001B[1;32mimport\u001B[0m \u001B[0mnumpy\u001B[0m \u001B[1;32mas\u001B[0m \u001B[0mnp\u001B[0m\u001B[1;33m\u001B[0m\u001B[1;33m\u001B[0m\u001B[0m\n\u001B[1;32m----> 3\u001B[1;33m \u001B[1;32mfrom\u001B[0m \u001B[0mstatsmodels\u001B[0m\u001B[1;33m.\u001B[0m\u001B[0mtsa\u001B[0m\u001B[1;33m.\u001B[0m\u001B[0mholtwinters\u001B[0m \u001B[1;32mimport\u001B[0m \u001B[0mExponentialSmoothing\u001B[0m\u001B[1;33m\u001B[0m\u001B[1;33m\u001B[0m\u001B[0m\n\u001B[0m\u001B[0;32m      4\u001B[0m \u001B[1;33m\u001B[0m\u001B[0m\n\u001B[0;32m      5\u001B[0m \u001B[1;34m\"\"\" Key Operations \"\"\"\u001B[0m\u001B[1;33m\u001B[0m\u001B[1;33m\u001B[0m\u001B[0m\n",
      "\u001B[1;32m~\\anaconda3\\lib\\site-packages\\statsmodels\\tsa\\holtwinters\\__init__.py\u001B[0m in \u001B[0;36m<module>\u001B[1;34m\u001B[0m\n\u001B[1;32m----> 1\u001B[1;33m from statsmodels.tsa.holtwinters.model import (\n\u001B[0m\u001B[0;32m      2\u001B[0m     \u001B[0mPY_SMOOTHERS\u001B[0m\u001B[1;33m,\u001B[0m\u001B[1;33m\u001B[0m\u001B[1;33m\u001B[0m\u001B[0m\n\u001B[0;32m      3\u001B[0m     \u001B[0mSMOOTHERS\u001B[0m\u001B[1;33m,\u001B[0m\u001B[1;33m\u001B[0m\u001B[1;33m\u001B[0m\u001B[0m\n\u001B[0;32m      4\u001B[0m     \u001B[0mExponentialSmoothing\u001B[0m\u001B[1;33m,\u001B[0m\u001B[1;33m\u001B[0m\u001B[1;33m\u001B[0m\u001B[0m\n\u001B[0;32m      5\u001B[0m     \u001B[0mHolt\u001B[0m\u001B[1;33m,\u001B[0m\u001B[1;33m\u001B[0m\u001B[1;33m\u001B[0m\u001B[0m\n",
      "\u001B[1;32m~\\anaconda3\\lib\\site-packages\\statsmodels\\tsa\\holtwinters\\model.py\u001B[0m in \u001B[0;36m<module>\u001B[1;34m\u001B[0m\n\u001B[0;32m     32\u001B[0m     \u001B[0mstring_like\u001B[0m\u001B[1;33m,\u001B[0m\u001B[1;33m\u001B[0m\u001B[1;33m\u001B[0m\u001B[0m\n\u001B[0;32m     33\u001B[0m )\n\u001B[1;32m---> 34\u001B[1;33m \u001B[1;32mfrom\u001B[0m \u001B[0mstatsmodels\u001B[0m\u001B[1;33m.\u001B[0m\u001B[0mtsa\u001B[0m\u001B[1;33m.\u001B[0m\u001B[0mbase\u001B[0m\u001B[1;33m.\u001B[0m\u001B[0mtsa_model\u001B[0m \u001B[1;32mimport\u001B[0m \u001B[0mTimeSeriesModel\u001B[0m\u001B[1;33m\u001B[0m\u001B[1;33m\u001B[0m\u001B[0m\n\u001B[0m\u001B[0;32m     35\u001B[0m \u001B[1;32mfrom\u001B[0m \u001B[0mstatsmodels\u001B[0m\u001B[1;33m.\u001B[0m\u001B[0mtsa\u001B[0m\u001B[1;33m.\u001B[0m\u001B[0mexponential_smoothing\u001B[0m\u001B[1;33m.\u001B[0m\u001B[0mets\u001B[0m \u001B[1;32mimport\u001B[0m \u001B[0m_initialization_heuristic\u001B[0m\u001B[1;33m\u001B[0m\u001B[1;33m\u001B[0m\u001B[0m\n\u001B[0;32m     36\u001B[0m from statsmodels.tsa.holtwinters import (\n",
      "\u001B[1;32m~\\anaconda3\\lib\\site-packages\\statsmodels\\tsa\\base\\tsa_model.py\u001B[0m in \u001B[0;36m<module>\u001B[1;34m\u001B[0m\n\u001B[0;32m      5\u001B[0m \u001B[1;32mimport\u001B[0m \u001B[0mwarnings\u001B[0m\u001B[1;33m\u001B[0m\u001B[1;33m\u001B[0m\u001B[0m\n\u001B[0;32m      6\u001B[0m \u001B[1;32mimport\u001B[0m \u001B[0mnumpy\u001B[0m \u001B[1;32mas\u001B[0m \u001B[0mnp\u001B[0m\u001B[1;33m\u001B[0m\u001B[1;33m\u001B[0m\u001B[0m\n\u001B[1;32m----> 7\u001B[1;33m from pandas import (to_datetime, Int64Index, DatetimeIndex, Period,\n\u001B[0m\u001B[0;32m      8\u001B[0m                     \u001B[0mPeriodIndex\u001B[0m\u001B[1;33m,\u001B[0m \u001B[0mRangeIndex\u001B[0m\u001B[1;33m,\u001B[0m \u001B[0mTimestamp\u001B[0m\u001B[1;33m,\u001B[0m \u001B[0mSeries\u001B[0m\u001B[1;33m,\u001B[0m \u001B[0mIndex\u001B[0m\u001B[1;33m,\u001B[0m\u001B[1;33m\u001B[0m\u001B[1;33m\u001B[0m\u001B[0m\n\u001B[0;32m      9\u001B[0m                     Float64Index, date_range, period_range)\n",
      "\u001B[1;31mImportError\u001B[0m: cannot import name 'Int64Index' from 'pandas' (C:\\Users\\joela\\anaconda3\\lib\\site-packages\\pandas\\__init__.py)"
     ]
    }
   ],
   "execution_count": 2,
   "source": [
    "import pathlib\n",
    "import sys\n",
    "\n",
    "import numpy as np\n",
    "import pandas as pd\n",
    "import statsmodels\n",
    "\n",
    "path = pathlib.Path('')\n",
    "sys.path.insert(1, str(path))\n",
    "\n",
    "import local_utils as lu"
   ],
   "id": "5d1d557a8b35120a"
  },
  {
   "metadata": {
    "ExecuteTime": {
     "end_time": "2024-09-05T21:43:47.191494Z",
     "start_time": "2024-09-05T21:43:47.176498Z"
    }
   },
   "cell_type": "code",
   "source": [
    "path = \"C:\\\\Users\\\\joela\\\\Documents\\\\tag\\\\cifar_10\\\\neuro\\\\tag\\\\centralized\\\\alpha10000--alpha_val10000\\\\n_rounds250--d_start1--m_start1--n_malicious1\"\n",
    "user_file = \"output_user_ks--neuro_p0.1.npy\"\n",
    "val_file = \"output_val_ks--neuro_p0.1.npy\"\n",
    "\n",
    "path = pathlib.Path(path)   \n",
    "print(path)"
   ],
   "id": "e94b44dfa75d86ef",
   "outputs": [
    {
     "name": "stdout",
     "output_type": "stream",
     "text": [
      "C:\\Users\\joela\\Documents\\tag\\cifar_10\\neuro\\tag\\centralized\\alpha10000--alpha_val10000\\n_rounds250--d_start1--m_start1--n_malicious1\n"
     ]
    }
   ],
   "execution_count": 6
  },
  {
   "metadata": {
    "ExecuteTime": {
     "end_time": "2024-09-05T21:43:47.296705Z",
     "start_time": "2024-09-05T21:43:47.286869Z"
    }
   },
   "cell_type": "code",
   "source": [
    "data_val = np.load(path / 'data' / val_file, allow_pickle=True)\n",
    "data_user = np.load(path / 'data' / user_file, allow_pickle=True)\n"
   ],
   "id": "f0aaa52fa292e699",
   "outputs": [],
   "execution_count": 7
  },
  {
   "metadata": {
    "ExecuteTime": {
     "end_time": "2024-09-05T21:43:47.342244Z",
     "start_time": "2024-09-05T21:43:47.317962Z"
    }
   },
   "cell_type": "code",
   "source": [
    "data_val, data_user = np.array(data_val), np.array(data_user)\n",
    "data_val = data_val[:-1]  # remove last validation check for next iteration never run\n",
    "data_val, scaling = data_val[1:], data_val[0, 1:]  # remove scaling row, remove round from scaling\n",
    "data_val_r, data_val_values = data_val[:, 0], data_val[:, 1:]  # seperate round from data\n",
    "\n",
    "data_val_scaled = data_val_values * scaling\n",
    "data_val_scaled_max = data_val_scaled.max(axis=1)\n",
    "data_val_scaled_max_thresh = lu.min_mean_smooth(data_val_scaled_max, scale=2)\n",
    "data_val_scaled_max_thresh = np.minimum(data_val_scaled_max_thresh, 1)\n"
   ],
   "id": "88ece2555688b900",
   "outputs": [
    {
     "ename": "NameError",
     "evalue": "name 'lu' is not defined",
     "output_type": "error",
     "traceback": [
      "\u001B[1;31m---------------------------------------------------------------------------\u001B[0m",
      "\u001B[1;31mNameError\u001B[0m                                 Traceback (most recent call last)",
      "\u001B[1;32m<ipython-input-8-1197aa87eb6b>\u001B[0m in \u001B[0;36m<module>\u001B[1;34m\u001B[0m\n\u001B[0;32m      6\u001B[0m \u001B[0mdata_val_scaled\u001B[0m \u001B[1;33m=\u001B[0m \u001B[0mdata_val_values\u001B[0m \u001B[1;33m*\u001B[0m \u001B[0mscaling\u001B[0m\u001B[1;33m\u001B[0m\u001B[1;33m\u001B[0m\u001B[0m\n\u001B[0;32m      7\u001B[0m \u001B[0mdata_val_scaled_max\u001B[0m \u001B[1;33m=\u001B[0m \u001B[0mdata_val_scaled\u001B[0m\u001B[1;33m.\u001B[0m\u001B[0mmax\u001B[0m\u001B[1;33m(\u001B[0m\u001B[0maxis\u001B[0m\u001B[1;33m=\u001B[0m\u001B[1;36m1\u001B[0m\u001B[1;33m)\u001B[0m\u001B[1;33m\u001B[0m\u001B[1;33m\u001B[0m\u001B[0m\n\u001B[1;32m----> 8\u001B[1;33m \u001B[0mdata_val_scaled_max_thresh\u001B[0m \u001B[1;33m=\u001B[0m \u001B[0mlu\u001B[0m\u001B[1;33m.\u001B[0m\u001B[0mmin_mean_smooth\u001B[0m\u001B[1;33m(\u001B[0m\u001B[0mdata_val_scaled_max\u001B[0m\u001B[1;33m,\u001B[0m \u001B[0mscale\u001B[0m\u001B[1;33m=\u001B[0m\u001B[1;36m2\u001B[0m\u001B[1;33m)\u001B[0m\u001B[1;33m\u001B[0m\u001B[1;33m\u001B[0m\u001B[0m\n\u001B[0m\u001B[0;32m      9\u001B[0m \u001B[0mdata_val_scaled_max_thresh\u001B[0m \u001B[1;33m=\u001B[0m \u001B[0mnp\u001B[0m\u001B[1;33m.\u001B[0m\u001B[0mminimum\u001B[0m\u001B[1;33m(\u001B[0m\u001B[0mdata_val_scaled_max_thresh\u001B[0m\u001B[1;33m,\u001B[0m \u001B[1;36m1\u001B[0m\u001B[1;33m)\u001B[0m\u001B[1;33m\u001B[0m\u001B[1;33m\u001B[0m\u001B[0m\n\u001B[0;32m     10\u001B[0m \u001B[1;33m\u001B[0m\u001B[0m\n",
      "\u001B[1;31mNameError\u001B[0m: name 'lu' is not defined"
     ]
    }
   ],
   "execution_count": 8
  }
 ],
 "metadata": {
  "kernelspec": {
   "display_name": "Python 3",
   "language": "python",
   "name": "python3"
  },
  "language_info": {
   "codemirror_mode": {
    "name": "ipython",
    "version": 2
   },
   "file_extension": ".py",
   "mimetype": "text/x-python",
   "name": "python",
   "nbconvert_exporter": "python",
   "pygments_lexer": "ipython2",
   "version": "2.7.6"
  }
 },
 "nbformat": 4,
 "nbformat_minor": 5
}
